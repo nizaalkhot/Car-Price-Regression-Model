{
 "cells": [
  {
   "cell_type": "code",
   "execution_count": null,
   "id": "2d89140f-4d4b-421b-bffa-edeb837114d8",
   "metadata": {},
   "outputs": [],
   "source": [
    "!pip install matplotlib\n",
    "!pip install seaborn"
   ]
  },
  {
   "cell_type": "code",
   "execution_count": 1,
   "id": "a28a23c9-9192-4f5b-bdd2-f5aec61a708e",
   "metadata": {},
   "outputs": [],
   "source": [
    "import pandas as pd\n",
    "import numpy as np\n",
    "import re, json\n",
    "import matplotlib.pyplot as plt\n",
    "import seaborn as sns"
   ]
  },
  {
   "cell_type": "code",
   "execution_count": 2,
   "id": "e6a1e5fe-d103-4afb-851b-33598db12ed0",
   "metadata": {},
   "outputs": [],
   "source": [
    "df = pd.read_csv('The Ultimate Cars Dataset 2024.csv',encoding='cp1252')"
   ]
  },
  {
   "cell_type": "code",
   "execution_count": 3,
   "id": "6f4f18d1-dcfb-4d0b-862d-d1d3842fd25c",
   "metadata": {},
   "outputs": [
    {
     "data": {
      "text/html": [
       "<div>\n",
       "<style scoped>\n",
       "    .dataframe tbody tr th:only-of-type {\n",
       "        vertical-align: middle;\n",
       "    }\n",
       "\n",
       "    .dataframe tbody tr th {\n",
       "        vertical-align: top;\n",
       "    }\n",
       "\n",
       "    .dataframe thead th {\n",
       "        text-align: right;\n",
       "    }\n",
       "</style>\n",
       "<table border=\"1\" class=\"dataframe\">\n",
       "  <thead>\n",
       "    <tr style=\"text-align: right;\">\n",
       "      <th></th>\n",
       "      <th>Company Names</th>\n",
       "      <th>Cars Names</th>\n",
       "      <th>Engines</th>\n",
       "      <th>CC/Battery Capacity</th>\n",
       "      <th>HorsePower</th>\n",
       "      <th>Total Speed</th>\n",
       "      <th>Performance(0 - 100 )KM/H</th>\n",
       "      <th>Cars Prices</th>\n",
       "      <th>Fuel Types</th>\n",
       "      <th>Seats</th>\n",
       "      <th>Torque</th>\n",
       "    </tr>\n",
       "  </thead>\n",
       "  <tbody>\n",
       "    <tr>\n",
       "      <th>0</th>\n",
       "      <td>FERRARI</td>\n",
       "      <td>SF90 STRADALE</td>\n",
       "      <td>V8</td>\n",
       "      <td>3990 cc</td>\n",
       "      <td>963 hp</td>\n",
       "      <td>340 km/h</td>\n",
       "      <td>2.5 sec</td>\n",
       "      <td>$1,100,000</td>\n",
       "      <td>plug in hyrbrid</td>\n",
       "      <td>2</td>\n",
       "      <td>800 Nm</td>\n",
       "    </tr>\n",
       "    <tr>\n",
       "      <th>1</th>\n",
       "      <td>ROLLS ROYCE</td>\n",
       "      <td>PHANTOM</td>\n",
       "      <td>V12</td>\n",
       "      <td>6749 cc</td>\n",
       "      <td>563 hp</td>\n",
       "      <td>250 km/h</td>\n",
       "      <td>5.3 sec</td>\n",
       "      <td>$460,000</td>\n",
       "      <td>Petrol</td>\n",
       "      <td>5</td>\n",
       "      <td>900 Nm</td>\n",
       "    </tr>\n",
       "    <tr>\n",
       "      <th>2</th>\n",
       "      <td>Ford</td>\n",
       "      <td>KA+</td>\n",
       "      <td>1.2L Petrol</td>\n",
       "      <td>1,200 cc</td>\n",
       "      <td>70-85 hp</td>\n",
       "      <td>165 km/h</td>\n",
       "      <td>10.5 sec</td>\n",
       "      <td>$12,000-$15,000</td>\n",
       "      <td>Petrol</td>\n",
       "      <td>5</td>\n",
       "      <td>100 - 140 Nm</td>\n",
       "    </tr>\n",
       "    <tr>\n",
       "      <th>3</th>\n",
       "      <td>MERCEDES</td>\n",
       "      <td>GT 63 S</td>\n",
       "      <td>V8</td>\n",
       "      <td>3,982 cc</td>\n",
       "      <td>630 hp</td>\n",
       "      <td>250 km/h</td>\n",
       "      <td>3.2 sec</td>\n",
       "      <td>$161,000</td>\n",
       "      <td>Petrol</td>\n",
       "      <td>4</td>\n",
       "      <td>900 Nm</td>\n",
       "    </tr>\n",
       "    <tr>\n",
       "      <th>4</th>\n",
       "      <td>AUDI</td>\n",
       "      <td>AUDI R8 Gt</td>\n",
       "      <td>V10</td>\n",
       "      <td>5,204 cc</td>\n",
       "      <td>602 hp</td>\n",
       "      <td>320 km/h</td>\n",
       "      <td>3.6 sec</td>\n",
       "      <td>$253,290</td>\n",
       "      <td>Petrol</td>\n",
       "      <td>2</td>\n",
       "      <td>560 Nm</td>\n",
       "    </tr>\n",
       "  </tbody>\n",
       "</table>\n",
       "</div>"
      ],
      "text/plain": [
       "  Company Names     Cars Names      Engines CC/Battery Capacity HorsePower  \\\n",
       "0       FERRARI  SF90 STRADALE           V8             3990 cc     963 hp   \n",
       "1   ROLLS ROYCE        PHANTOM          V12             6749 cc     563 hp   \n",
       "2          Ford            KA+  1.2L Petrol            1,200 cc   70-85 hp   \n",
       "3      MERCEDES        GT 63 S           V8            3,982 cc     630 hp   \n",
       "4          AUDI     AUDI R8 Gt          V10            5,204 cc     602 hp   \n",
       "\n",
       "  Total Speed Performance(0 - 100 )KM/H      Cars Prices       Fuel Types  \\\n",
       "0    340 km/h                   2.5 sec      $1,100,000   plug in hyrbrid   \n",
       "1    250 km/h                   5.3 sec        $460,000            Petrol   \n",
       "2    165 km/h                  10.5 sec  $12,000-$15,000           Petrol   \n",
       "3    250 km/h                   3.2 sec        $161,000            Petrol   \n",
       "4    320 km/h                   3.6 sec        $253,290            Petrol   \n",
       "\n",
       "  Seats        Torque  \n",
       "0     2        800 Nm  \n",
       "1     5        900 Nm  \n",
       "2     5  100 - 140 Nm  \n",
       "3     4        900 Nm  \n",
       "4     2        560 Nm  "
      ]
     },
     "execution_count": 3,
     "metadata": {},
     "output_type": "execute_result"
    }
   ],
   "source": [
    "df.head(5)"
   ]
  },
  {
   "cell_type": "code",
   "execution_count": 4,
   "id": "bbbadf15-e6ac-4528-87c1-ed33508fc30c",
   "metadata": {},
   "outputs": [
    {
     "data": {
      "text/plain": [
       "Company Names                0\n",
       "Cars Names                   0\n",
       "Engines                      0\n",
       "CC/Battery Capacity          3\n",
       "HorsePower                   0\n",
       "Total Speed                  0\n",
       "Performance(0 - 100 )KM/H    6\n",
       "Cars Prices                  0\n",
       "Fuel Types                   0\n",
       "Seats                        0\n",
       "Torque                       1\n",
       "dtype: int64"
      ]
     },
     "execution_count": 4,
     "metadata": {},
     "output_type": "execute_result"
    }
   ],
   "source": [
    "df.isna().sum()"
   ]
  },
  {
   "cell_type": "code",
   "execution_count": 5,
   "id": "fe633dde-e5a9-4139-82cd-3175936cf7a7",
   "metadata": {},
   "outputs": [],
   "source": [
    "df = df.dropna()"
   ]
  },
  {
   "cell_type": "code",
   "execution_count": 6,
   "id": "b5651815-2464-4fa4-9f5b-07c27f743ccc",
   "metadata": {},
   "outputs": [
    {
     "data": {
      "text/plain": [
       "Company Names                0\n",
       "Cars Names                   0\n",
       "Engines                      0\n",
       "CC/Battery Capacity          0\n",
       "HorsePower                   0\n",
       "Total Speed                  0\n",
       "Performance(0 - 100 )KM/H    0\n",
       "Cars Prices                  0\n",
       "Fuel Types                   0\n",
       "Seats                        0\n",
       "Torque                       0\n",
       "dtype: int64"
      ]
     },
     "execution_count": 6,
     "metadata": {},
     "output_type": "execute_result"
    }
   ],
   "source": [
    "df.isna().sum()"
   ]
  },
  {
   "cell_type": "code",
   "execution_count": 7,
   "id": "0acf9a00-1622-48bf-8b08-e91053490f28",
   "metadata": {},
   "outputs": [
    {
     "name": "stderr",
     "output_type": "stream",
     "text": [
      "<>:11: SyntaxWarning: invalid escape sequence '\\d'\n",
      "<>:13: SyntaxWarning: invalid escape sequence '\\d'\n",
      "<>:13: SyntaxWarning: invalid escape sequence '\\d'\n",
      "<>:14: SyntaxWarning: invalid escape sequence '\\d'\n",
      "<>:15: SyntaxWarning: invalid escape sequence '\\d'\n",
      "<>:11: SyntaxWarning: invalid escape sequence '\\d'\n",
      "<>:13: SyntaxWarning: invalid escape sequence '\\d'\n",
      "<>:13: SyntaxWarning: invalid escape sequence '\\d'\n",
      "<>:14: SyntaxWarning: invalid escape sequence '\\d'\n",
      "<>:15: SyntaxWarning: invalid escape sequence '\\d'\n",
      "C:\\Users\\nijaa\\AppData\\Local\\Temp\\ipykernel_30556\\1210044927.py:11: SyntaxWarning: invalid escape sequence '\\d'\n",
      "  if len(re.findall('[\\d.]+',value))>1:\n",
      "C:\\Users\\nijaa\\AppData\\Local\\Temp\\ipykernel_30556\\1210044927.py:13: SyntaxWarning: invalid escape sequence '\\d'\n",
      "  return sum(map(float,re.findall('[\\d.]+',value)))/len(re.findall('[\\d.]+',value))\n",
      "C:\\Users\\nijaa\\AppData\\Local\\Temp\\ipykernel_30556\\1210044927.py:13: SyntaxWarning: invalid escape sequence '\\d'\n",
      "  return sum(map(float,re.findall('[\\d.]+',value)))/len(re.findall('[\\d.]+',value))\n",
      "C:\\Users\\nijaa\\AppData\\Local\\Temp\\ipykernel_30556\\1210044927.py:14: SyntaxWarning: invalid escape sequence '\\d'\n",
      "  elif re.findall('[\\d.]+',value):\n",
      "C:\\Users\\nijaa\\AppData\\Local\\Temp\\ipykernel_30556\\1210044927.py:15: SyntaxWarning: invalid escape sequence '\\d'\n",
      "  return float(re.findall('[\\d.]+',value)[0])\n"
     ]
    }
   ],
   "source": [
    "def parse_value(value):\n",
    "    if isinstance(value, str):\n",
    "        # if \"-\" in value:\n",
    "        #     # Split the range and calculate the average\n",
    "        #     start, end = map(int, map(str.strip,value.split(\"-\")))\n",
    "        #     return (start + end) / 2\n",
    "        # elif \"/\" in value:\n",
    "        #     # Split the range and calculate the average\n",
    "        #     start, end = map(float, map(str.strip,value.split(\"/\")))\n",
    "        #     return (start + end) / 2\n",
    "        if len(re.findall('[\\d.]+',value))>1:\n",
    "            # Return the single value as a float\n",
    "            return sum(map(float,re.findall('[\\d.]+',value)))/len(re.findall('[\\d.]+',value))\n",
    "        elif re.findall('[\\d.]+',value): \n",
    "            return float(re.findall('[\\d.]+',value)[0])\n",
    "        elif value == '-': return None\n",
    "        else: return value"
   ]
  },
  {
   "cell_type": "code",
   "execution_count": 8,
   "id": "16bbc3dd-9955-4deb-91ff-3c662ecc5eac",
   "metadata": {},
   "outputs": [],
   "source": [
    "df.rename(columns={\"Total Speed\": \"Total Speed (km/h)\"}, inplace=True)\n",
    "df[\"Total Speed (km/h)\"] = df[\"Total Speed (km/h)\"].apply(lambda x: x.lower() if isinstance(x, str) else x)\n",
    "df[\"Total Speed (km/h)\"] = df[\"Total Speed (km/h)\"].str.replace(\" km/h\", \"\", regex=False)"
   ]
  },
  {
   "cell_type": "code",
   "execution_count": 9,
   "id": "65e334c5-bb3a-4cd6-9437-9abccef47efd",
   "metadata": {},
   "outputs": [],
   "source": [
    "df.rename(columns={\"Performance(0 - 100 )KM/H\": \"Performance(0 - 100 )KM/H (in sec)\"}, inplace=True)\n",
    "df[\"Performance(0 - 100 )KM/H (in sec)\"] = df[\"Performance(0 - 100 )KM/H (in sec)\"].str.replace(\" sec\", \"\", regex=False)"
   ]
  },
  {
   "cell_type": "code",
   "execution_count": 10,
   "id": "ec215b5e-adfe-41ab-9684-531c70a79687",
   "metadata": {},
   "outputs": [],
   "source": [
    "df.rename(columns={\"CC/Battery Capacity\": \"Battery Capacity (cc)\"}, inplace=True)\n",
    "df[\"Battery Capacity (cc)\"] = df[\"Battery Capacity (cc)\"].str.replace(\" cc\", \"\", regex=False)\n",
    "df[\"Battery Capacity (cc)\"] = df[\"Battery Capacity (cc)\"].str.replace(\" kwh\", \"\", regex=False)\n",
    "df[\"Battery Capacity (cc)\"] = df[\"Battery Capacity (cc)\"].str.replace(\",\", \"\", regex=False)\n",
    "df[\"Battery Capacity (cc)\"] = df[\"Battery Capacity (cc)\"].apply(parse_value)"
   ]
  },
  {
   "cell_type": "code",
   "execution_count": 11,
   "id": "f2017815-a08e-4c1d-9ae7-206dd1bce0bc",
   "metadata": {},
   "outputs": [],
   "source": [
    "df[\"HorsePower\"] = df[\"HorsePower\"].str.replace(\" hp\", \"\", regex=False)\n",
    "df[\"HorsePower\"] = df[\"HorsePower\"].str.replace(\"~\", \"\", regex=False)\n",
    "df[\"HorsePower\"] = df[\"HorsePower\"].str.replace(\" HP\", \"\", regex=False)\n",
    "df[\"HorsePower\"] = df[\"HorsePower\"].apply(parse_value)"
   ]
  },
  {
   "cell_type": "code",
   "execution_count": 12,
   "id": "c5458f67-1417-474b-ac3a-673ca0bb435f",
   "metadata": {},
   "outputs": [],
   "source": [
    "df[\"Torque\"] = df[\"Torque\"].str.replace(\" Nm\", \"\", regex=False)\n",
    "df[\"Torque\"] = df[\"Torque\"].apply(parse_value)"
   ]
  },
  {
   "cell_type": "code",
   "execution_count": 13,
   "id": "635993e3-8eff-460c-a7e3-2075d6f6850d",
   "metadata": {},
   "outputs": [],
   "source": [
    "df.rename(columns={\"Cars Prices\": \"Price ($)\"}, inplace=True)\n",
    "df[\"Price ($)\"] = df[\"Price ($)\"].str.replace(\"$\", \"\", regex=False)\n",
    "df[\"Price ($)\"] = df[\"Price ($)\"].str.replace(\",\", \"\", regex=False)\n",
    "df[\"Price ($)\"] = df[\"Price ($)\"].apply(parse_value)"
   ]
  },
  {
   "cell_type": "code",
   "execution_count": 14,
   "id": "14a603f9-7e3b-46f1-a312-0c86b17379d8",
   "metadata": {},
   "outputs": [],
   "source": [
    "df[\"Seats\"] = df[\"Seats\"].apply(parse_value)"
   ]
  },
  {
   "cell_type": "code",
   "execution_count": 15,
   "id": "292e6fa2-cb33-4fc3-9716-41da881000a6",
   "metadata": {},
   "outputs": [
    {
     "data": {
      "text/html": [
       "<div>\n",
       "<style scoped>\n",
       "    .dataframe tbody tr th:only-of-type {\n",
       "        vertical-align: middle;\n",
       "    }\n",
       "\n",
       "    .dataframe tbody tr th {\n",
       "        vertical-align: top;\n",
       "    }\n",
       "\n",
       "    .dataframe thead th {\n",
       "        text-align: right;\n",
       "    }\n",
       "</style>\n",
       "<table border=\"1\" class=\"dataframe\">\n",
       "  <thead>\n",
       "    <tr style=\"text-align: right;\">\n",
       "      <th></th>\n",
       "      <th>Company Names</th>\n",
       "      <th>Cars Names</th>\n",
       "      <th>Engines</th>\n",
       "      <th>Battery Capacity (cc)</th>\n",
       "      <th>HorsePower</th>\n",
       "      <th>Total Speed (km/h)</th>\n",
       "      <th>Performance(0 - 100 )KM/H (in sec)</th>\n",
       "      <th>Price ($)</th>\n",
       "      <th>Fuel Types</th>\n",
       "      <th>Seats</th>\n",
       "      <th>Torque</th>\n",
       "    </tr>\n",
       "  </thead>\n",
       "  <tbody>\n",
       "    <tr>\n",
       "      <th>0</th>\n",
       "      <td>FERRARI</td>\n",
       "      <td>SF90 STRADALE</td>\n",
       "      <td>V8</td>\n",
       "      <td>3990.0</td>\n",
       "      <td>963.0</td>\n",
       "      <td>340</td>\n",
       "      <td>2.5</td>\n",
       "      <td>1100000.0</td>\n",
       "      <td>plug in hyrbrid</td>\n",
       "      <td>2.0</td>\n",
       "      <td>800.0</td>\n",
       "    </tr>\n",
       "    <tr>\n",
       "      <th>1</th>\n",
       "      <td>ROLLS ROYCE</td>\n",
       "      <td>PHANTOM</td>\n",
       "      <td>V12</td>\n",
       "      <td>6749.0</td>\n",
       "      <td>563.0</td>\n",
       "      <td>250</td>\n",
       "      <td>5.3</td>\n",
       "      <td>460000.0</td>\n",
       "      <td>Petrol</td>\n",
       "      <td>5.0</td>\n",
       "      <td>900.0</td>\n",
       "    </tr>\n",
       "    <tr>\n",
       "      <th>2</th>\n",
       "      <td>Ford</td>\n",
       "      <td>KA+</td>\n",
       "      <td>1.2L Petrol</td>\n",
       "      <td>1200.0</td>\n",
       "      <td>77.5</td>\n",
       "      <td>165</td>\n",
       "      <td>10.5</td>\n",
       "      <td>13500.0</td>\n",
       "      <td>Petrol</td>\n",
       "      <td>5.0</td>\n",
       "      <td>120.0</td>\n",
       "    </tr>\n",
       "    <tr>\n",
       "      <th>3</th>\n",
       "      <td>MERCEDES</td>\n",
       "      <td>GT 63 S</td>\n",
       "      <td>V8</td>\n",
       "      <td>3982.0</td>\n",
       "      <td>630.0</td>\n",
       "      <td>250</td>\n",
       "      <td>3.2</td>\n",
       "      <td>161000.0</td>\n",
       "      <td>Petrol</td>\n",
       "      <td>4.0</td>\n",
       "      <td>900.0</td>\n",
       "    </tr>\n",
       "    <tr>\n",
       "      <th>4</th>\n",
       "      <td>AUDI</td>\n",
       "      <td>AUDI R8 Gt</td>\n",
       "      <td>V10</td>\n",
       "      <td>5204.0</td>\n",
       "      <td>602.0</td>\n",
       "      <td>320</td>\n",
       "      <td>3.6</td>\n",
       "      <td>253290.0</td>\n",
       "      <td>Petrol</td>\n",
       "      <td>2.0</td>\n",
       "      <td>560.0</td>\n",
       "    </tr>\n",
       "  </tbody>\n",
       "</table>\n",
       "</div>"
      ],
      "text/plain": [
       "  Company Names     Cars Names      Engines  Battery Capacity (cc)  \\\n",
       "0       FERRARI  SF90 STRADALE           V8                 3990.0   \n",
       "1   ROLLS ROYCE        PHANTOM          V12                 6749.0   \n",
       "2          Ford            KA+  1.2L Petrol                 1200.0   \n",
       "3      MERCEDES        GT 63 S           V8                 3982.0   \n",
       "4          AUDI     AUDI R8 Gt          V10                 5204.0   \n",
       "\n",
       "   HorsePower Total Speed (km/h) Performance(0 - 100 )KM/H (in sec)  \\\n",
       "0       963.0                340                                2.5   \n",
       "1       563.0                250                                5.3   \n",
       "2        77.5                165                               10.5   \n",
       "3       630.0                250                                3.2   \n",
       "4       602.0                320                                3.6   \n",
       "\n",
       "   Price ($)       Fuel Types  Seats  Torque  \n",
       "0  1100000.0  plug in hyrbrid    2.0   800.0  \n",
       "1   460000.0           Petrol    5.0   900.0  \n",
       "2    13500.0           Petrol    5.0   120.0  \n",
       "3   161000.0           Petrol    4.0   900.0  \n",
       "4   253290.0           Petrol    2.0   560.0  "
      ]
     },
     "execution_count": 15,
     "metadata": {},
     "output_type": "execute_result"
    }
   ],
   "source": [
    "df.head(5)"
   ]
  },
  {
   "cell_type": "code",
   "execution_count": 17,
   "id": "bba57a27-a2bd-4468-bed9-e71a4a8f9385",
   "metadata": {},
   "outputs": [],
   "source": [
    "df = df.dropna()"
   ]
  },
  {
   "cell_type": "code",
   "execution_count": 18,
   "id": "0178e81e-7e5c-4708-965b-13eb9f795fb5",
   "metadata": {},
   "outputs": [
    {
     "data": {
      "text/plain": [
       "(1203, 11)"
      ]
     },
     "execution_count": 18,
     "metadata": {},
     "output_type": "execute_result"
    }
   ],
   "source": [
    "df.shape"
   ]
  },
  {
   "cell_type": "code",
   "execution_count": 19,
   "id": "dfb3bee9-2173-4813-a4b0-b2b31281e964",
   "metadata": {},
   "outputs": [
    {
     "name": "stdout",
     "output_type": "stream",
     "text": [
      "Saving Cleaned Dataset\n"
     ]
    }
   ],
   "source": [
    "print(\"Saving Cleaned Dataset\") \n",
    "df.to_csv('car_dataset.csv')"
   ]
  },
  {
   "cell_type": "code",
   "execution_count": null,
   "id": "581a0fb4-4e6c-4fa4-8d64-c2cd16cd63eb",
   "metadata": {},
   "outputs": [],
   "source": []
  }
 ],
 "metadata": {
  "kernelspec": {
   "display_name": "Python 3 (ipykernel)",
   "language": "python",
   "name": "python3"
  },
  "language_info": {
   "codemirror_mode": {
    "name": "ipython",
    "version": 3
   },
   "file_extension": ".py",
   "mimetype": "text/x-python",
   "name": "python",
   "nbconvert_exporter": "python",
   "pygments_lexer": "ipython3",
   "version": "3.12.8"
  }
 },
 "nbformat": 4,
 "nbformat_minor": 5
}
